{
 "cells": [
  {
   "cell_type": "code",
   "execution_count": 2,
   "metadata": {},
   "outputs": [
    {
     "name": "stdout",
     "output_type": "stream",
     "text": [
      "2.3\n"
     ]
    }
   ],
   "source": [
    "#first basic math neuron\n",
    "#inputs \n",
    "inputs = [1.0,2.0,3.0]\n",
    "\n",
    "#weights\n",
    "weights = [0.2, 0.8, -0.5]\n",
    "\n",
    "#bias\n",
    "bias = 2\n",
    "\n",
    "#calculating a output\n",
    "output = (inputs[0]*weights[0] +\n",
    "        inputs[1]*weights[1] +\n",
    "        inputs[2]*weights[2] + bias)\n",
    "\n",
    "\n",
    "print(output)"
   ]
  },
  {
   "cell_type": "code",
   "execution_count": 3,
   "metadata": {},
   "outputs": [
    {
     "name": "stdout",
     "output_type": "stream",
     "text": [
      "4.8\n"
     ]
    }
   ],
   "source": [
    "#a bit of a change in one parameters of input and weights of the neuron\n",
    "#inputs\n",
    "inputs = [1.0, 2.0, 3.0, 2.5]\n",
    "\n",
    "#weights\n",
    "weights = [0.2, 0.8, -0.5, 1.0]\n",
    "\n",
    "#biases\n",
    "bias = 2.0\n",
    "\n",
    "#calculating output\n",
    "output = (inputs[0]*weights[0] +\n",
    "            inputs[1]*weights[1] +\n",
    "            inputs[2]*weights[2] +\n",
    "            inputs[3]*weights[3] + bias)\n",
    "\n",
    "print(output)"
   ]
  },
  {
   "cell_type": "code",
   "execution_count": 4,
   "metadata": {},
   "outputs": [
    {
     "name": "stdout",
     "output_type": "stream",
     "text": [
      "[4.8, 1.21, 2.385]\n"
     ]
    }
   ],
   "source": [
    "#coding the first layer of a neuron output layer\n",
    "\n",
    "inputs = [1,2,3,2.5]\n",
    "\n",
    "#weights \n",
    "weights1 = [0.2, 0.8, -0.5, 1]\n",
    "weights2 = [0.5, -0.91, 0.26, -0.5]\n",
    "weights3 = [-0.26, -0.27, 0.17, 0.87]\n",
    "\n",
    "#biases\n",
    "bias1 = 2\n",
    "bias2 = 3\n",
    "bias3 = 0.5\n",
    "\n",
    "output = [\n",
    "        # Neuron 1:\n",
    "        inputs[0]*weights1[0] +\n",
    "        inputs[1]*weights1[1] +\n",
    "        inputs[2]*weights1[2] +\n",
    "        inputs[3]*weights1[3] + bias1,\n",
    "        # Neuron 2:\n",
    "        inputs[0]*weights2[0] +\n",
    "        inputs[1]*weights2[1] +\n",
    "        inputs[2]*weights2[2] +\n",
    "        inputs[3]*weights2[3] + bias2,\n",
    "        # Neuron 3:\n",
    "        inputs[0]*weights3[0] +\n",
    "        inputs[1]*weights3[1] +\n",
    "        inputs[2]*weights3[2] +\n",
    "        inputs[3]*weights3[3] + bias3]\n",
    "\n",
    "\n",
    "print(output)"
   ]
  },
  {
   "cell_type": "code",
   "execution_count": 5,
   "metadata": {},
   "outputs": [
    {
     "name": "stdout",
     "output_type": "stream",
     "text": [
      "[4.8, 1.21, 2.385]\n"
     ]
    }
   ],
   "source": [
    "#using loops for calculating a output of neuron\n",
    "\n",
    "inputs = [1, 2, 3, 2.5]\n",
    "weights = [[0.2, 0.8, -0.5, 1],\n",
    "[0.5, -0.91, 0.26, -0.5],\n",
    "[-0.26, -0.27, 0.17, 0.87]]\n",
    "biases = [2, 3, 0.5]\n",
    "# Output of current layer\n",
    "layer_outputs = []\n",
    "# For each neuron\n",
    "for neuron_weights, neuron_bias in zip(weights, biases):\n",
    "# Zeroed output of given neuron\n",
    "    neuron_output = 0\n",
    "    # For each input and weight to the neuron\n",
    "    for n_input, weight in zip(inputs, neuron_weights):\n",
    "        # Multiply this input by associated weight\n",
    "        # and add to the neuron’s output variable\n",
    "        neuron_output += n_input*weight\n",
    "    # Add bias\n",
    "    neuron_output += neuron_bias\n",
    "    # Put neuron’s result to the layer’s output list\n",
    "    layer_outputs.append(neuron_output)\n",
    "print(layer_outputs)\n"
   ]
  }
 ],
 "metadata": {
  "kernelspec": {
   "display_name": "Python 3",
   "language": "python",
   "name": "python3"
  },
  "language_info": {
   "codemirror_mode": {
    "name": "ipython",
    "version": 3
   },
   "file_extension": ".py",
   "mimetype": "text/x-python",
   "name": "python",
   "nbconvert_exporter": "python",
   "pygments_lexer": "ipython3",
   "version": "3.12.4"
  }
 },
 "nbformat": 4,
 "nbformat_minor": 2
}
